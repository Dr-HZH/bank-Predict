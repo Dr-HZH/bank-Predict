{
 "cells": [
  {
   "cell_type": "markdown",
   "source": [
    "对数据集进行初步分析、可视化和特征选择用注释或markdown文档写出分析思路\n",
    "用注释或markdown文档写出分析思路"
   ],
   "metadata": {
    "collapsed": false,
    "pycharm": {
     "name": "#%% md\n"
    }
   }
  },
  {
   "cell_type": "code",
   "execution_count": 1,
   "outputs": [],
   "source": [
    "# 导入包\n",
    "import numpy as np\n",
    "import pandas as pd\n",
    "import matplotlib.pyplot as plt"
   ],
   "metadata": {
    "collapsed": false,
    "pycharm": {
     "name": "#%%\n"
    }
   }
  },
  {
   "cell_type": "code",
   "execution_count": 2,
   "outputs": [
    {
     "data": {
      "text/plain": "  A1     A2     A3 A4 A5 A6 A7    A8 A9 A10  A11 A12 A13    A14  A15 A16\n0  b  30.83  0.000  u  g  w  v  1.25  t   t    1   f   g  202.0    0   +\n1  a  58.67  4.460  u  g  q  h  3.04  t   t    6   f   g   43.0  560   +\n2  a  24.50  0.500  u  g  q  h  1.50  t   f    0   f   g  280.0  824   +\n3  b  27.83  1.540  u  g  w  v  3.75  t   t    5   t   g  100.0    3   +\n4  b  20.17  5.625  u  g  w  v  1.71  t   f    0   f   s  120.0    0   +",
      "text/html": "<div>\n<style scoped>\n    .dataframe tbody tr th:only-of-type {\n        vertical-align: middle;\n    }\n\n    .dataframe tbody tr th {\n        vertical-align: top;\n    }\n\n    .dataframe thead th {\n        text-align: right;\n    }\n</style>\n<table border=\"1\" class=\"dataframe\">\n  <thead>\n    <tr style=\"text-align: right;\">\n      <th></th>\n      <th>A1</th>\n      <th>A2</th>\n      <th>A3</th>\n      <th>A4</th>\n      <th>A5</th>\n      <th>A6</th>\n      <th>A7</th>\n      <th>A8</th>\n      <th>A9</th>\n      <th>A10</th>\n      <th>A11</th>\n      <th>A12</th>\n      <th>A13</th>\n      <th>A14</th>\n      <th>A15</th>\n      <th>A16</th>\n    </tr>\n  </thead>\n  <tbody>\n    <tr>\n      <th>0</th>\n      <td>b</td>\n      <td>30.83</td>\n      <td>0.000</td>\n      <td>u</td>\n      <td>g</td>\n      <td>w</td>\n      <td>v</td>\n      <td>1.25</td>\n      <td>t</td>\n      <td>t</td>\n      <td>1</td>\n      <td>f</td>\n      <td>g</td>\n      <td>202.0</td>\n      <td>0</td>\n      <td>+</td>\n    </tr>\n    <tr>\n      <th>1</th>\n      <td>a</td>\n      <td>58.67</td>\n      <td>4.460</td>\n      <td>u</td>\n      <td>g</td>\n      <td>q</td>\n      <td>h</td>\n      <td>3.04</td>\n      <td>t</td>\n      <td>t</td>\n      <td>6</td>\n      <td>f</td>\n      <td>g</td>\n      <td>43.0</td>\n      <td>560</td>\n      <td>+</td>\n    </tr>\n    <tr>\n      <th>2</th>\n      <td>a</td>\n      <td>24.50</td>\n      <td>0.500</td>\n      <td>u</td>\n      <td>g</td>\n      <td>q</td>\n      <td>h</td>\n      <td>1.50</td>\n      <td>t</td>\n      <td>f</td>\n      <td>0</td>\n      <td>f</td>\n      <td>g</td>\n      <td>280.0</td>\n      <td>824</td>\n      <td>+</td>\n    </tr>\n    <tr>\n      <th>3</th>\n      <td>b</td>\n      <td>27.83</td>\n      <td>1.540</td>\n      <td>u</td>\n      <td>g</td>\n      <td>w</td>\n      <td>v</td>\n      <td>3.75</td>\n      <td>t</td>\n      <td>t</td>\n      <td>5</td>\n      <td>t</td>\n      <td>g</td>\n      <td>100.0</td>\n      <td>3</td>\n      <td>+</td>\n    </tr>\n    <tr>\n      <th>4</th>\n      <td>b</td>\n      <td>20.17</td>\n      <td>5.625</td>\n      <td>u</td>\n      <td>g</td>\n      <td>w</td>\n      <td>v</td>\n      <td>1.71</td>\n      <td>t</td>\n      <td>f</td>\n      <td>0</td>\n      <td>f</td>\n      <td>s</td>\n      <td>120.0</td>\n      <td>0</td>\n      <td>+</td>\n    </tr>\n  </tbody>\n</table>\n</div>"
     },
     "execution_count": 2,
     "metadata": {},
     "output_type": "execute_result"
    }
   ],
   "source": [
    "# 读取数据\n",
    "df = pd.read_csv(\"samples.data\",header=None,na_values=['?'])\n",
    "# 列名列表\n",
    "column_names = ['A1', 'A2', 'A3', 'A4', 'A5', 'A6', 'A7', 'A8', 'A9', 'A10', 'A11', 'A12', 'A13', 'A14', 'A15', 'A16']\n",
    "\n",
    "# 设置列名\n",
    "df.columns = column_names\n",
    "df.head()"
   ],
   "metadata": {
    "collapsed": false,
    "pycharm": {
     "name": "#%%\n"
    }
   }
  },
  {
   "cell_type": "code",
   "execution_count": 3,
   "outputs": [
    {
     "name": "stdout",
     "output_type": "stream",
     "text": [
      "A1     1.739130\n",
      "A2     1.739130\n",
      "A3     0.000000\n",
      "A4     0.869565\n",
      "A5     0.869565\n",
      "A6     1.304348\n",
      "A7     1.304348\n",
      "A8     0.000000\n",
      "A9     0.000000\n",
      "A10    0.000000\n",
      "A11    0.000000\n",
      "A12    0.000000\n",
      "A13    0.000000\n",
      "A14    1.884058\n",
      "A15    0.000000\n",
      "A16    0.000000\n",
      "dtype: float64\n"
     ]
    }
   ],
   "source": [
    "# 缺失值统计\n",
    "missing_values = df.isnull().sum()\n",
    "missing_percentage = missing_values / len(df) * 100\n",
    "print(missing_percentage)"
   ],
   "metadata": {
    "collapsed": false,
    "pycharm": {
     "name": "#%%\n"
    }
   }
  },
  {
   "cell_type": "code",
   "execution_count": 4,
   "outputs": [
    {
     "name": "stdout",
     "output_type": "stream",
     "text": [
      "(653, 16)\n"
     ]
    }
   ],
   "source": [
    "# 缺失值占比不高，直接删去\n",
    "df.dropna(inplace=True)\n",
    "print(df.shape)"
   ],
   "metadata": {
    "collapsed": false,
    "pycharm": {
     "name": "#%%\n"
    }
   }
  },
  {
   "cell_type": "code",
   "execution_count": 5,
   "outputs": [
    {
     "data": {
      "text/plain": "<Figure size 432x288 with 1 Axes>",
      "image/png": "[encoded data removed]"
     },
     "metadata": {
      "needs_background": "light"
     },
     "output_type": "display_data"
    }
   ],
   "source": [
    "# 中文字体设置\n",
    "plt.rcParams['font.sans-serif'] = 'SimSun'\n",
    "# 统计目标变量的取值频次\n",
    "target_counts = df['A16'].value_counts()\n",
    "\n",
    "# 绘制柱状图\n",
    "plt.bar(target_counts.index, target_counts.values)\n",
    "plt.xlabel('目标变量')\n",
    "plt.ylabel('样本数量')\n",
    "plt.title('目标变量分布')\n",
    "plt.show()\n",
    "\n",
    "# 分布平均"
   ],
   "metadata": {
    "collapsed": false,
    "pycharm": {
     "name": "#%%\n"
    }
   }
  },
  {
   "cell_type": "code",
   "execution_count": 6,
   "outputs": [
    {
     "data": {
      "text/plain": "   A1     A2     A3  A4  A5  A6  A7    A8  A9  A10  A11  A12  A13    A14  A15  \\\n0   1  30.83  0.000   1   0  12   7  1.25   1    1    1    0    0  202.0    0   \n1   0  58.67  4.460   1   0  10   3  3.04   1    1    6    0    0   43.0  560   \n2   0  24.50  0.500   1   0  10   3  1.50   1    0    0    0    0  280.0  824   \n3   1  27.83  1.540   1   0  12   7  3.75   1    1    5    1    0  100.0    3   \n4   1  20.17  5.625   1   0  12   7  1.71   1    0    0    0    2  120.0    0   \n\n   A16  \n0    0  \n1    0  \n2    0  \n3    0  \n4    0  ",
      "text/html": "<div>\n<style scoped>\n    .dataframe tbody tr th:only-of-type {\n        vertical-align: middle;\n    }\n\n    .dataframe tbody tr th {\n        vertical-align: top;\n    }\n\n    .dataframe thead th {\n        text-align: right;\n    }\n</style>\n<table border=\"1\" class=\"dataframe\">\n  <thead>\n    <tr style=\"text-align: right;\">\n      <th></th>\n      <th>A1</th>\n      <th>A2</th>\n      <th>A3</th>\n      <th>A4</th>\n      <th>A5</th>\n      <th>A6</th>\n      <th>A7</th>\n      <th>A8</th>\n      <th>A9</th>\n      <th>A10</th>\n      <th>A11</th>\n      <th>A12</th>\n      <th>A13</th>\n      <th>A14</th>\n      <th>A15</th>\n      <th>A16</th>\n    </tr>\n  </thead>\n  <tbody>\n    <tr>\n      <th>0</th>\n      <td>1</td>\n      <td>30.83</td>\n      <td>0.000</td>\n      <td>1</td>\n      <td>0</td>\n      <td>12</td>\n      <td>7</td>\n      <td>1.25</td>\n      <td>1</td>\n      <td>1</td>\n      <td>1</td>\n      <td>0</td>\n      <td>0</td>\n      <td>202.0</td>\n      <td>0</td>\n      <td>0</td>\n    </tr>\n    <tr>\n      <th>1</th>\n      <td>0</td>\n      <td>58.67</td>\n      <td>4.460</td>\n      <td>1</td>\n      <td>0</td>\n      <td>10</td>\n      <td>3</td>\n      <td>3.04</td>\n      <td>1</td>\n      <td>1</td>\n      <td>6</td>\n      <td>0</td>\n      <td>0</td>\n      <td>43.0</td>\n      <td>560</td>\n      <td>0</td>\n    </tr>\n    <tr>\n      <th>2</th>\n      <td>0</td>\n      <td>24.50</td>\n      <td>0.500</td>\n      <td>1</td>\n      <td>0</td>\n      <td>10</td>\n      <td>3</td>\n      <td>1.50</td>\n      <td>1</td>\n      <td>0</td>\n      <td>0</td>\n      <td>0</td>\n      <td>0</td>\n      <td>280.0</td>\n      <td>824</td>\n      <td>0</td>\n    </tr>\n    <tr>\n      <th>3</th>\n      <td>1</td>\n      <td>27.83</td>\n      <td>1.540</td>\n      <td>1</td>\n      <td>0</td>\n      <td>12</td>\n      <td>7</td>\n      <td>3.75</td>\n      <td>1</td>\n      <td>1</td>\n      <td>5</td>\n      <td>1</td>\n      <td>0</td>\n      <td>100.0</td>\n      <td>3</td>\n      <td>0</td>\n    </tr>\n    <tr>\n      <th>4</th>\n      <td>1</td>\n      <td>20.17</td>\n      <td>5.625</td>\n      <td>1</td>\n      <td>0</td>\n      <td>12</td>\n      <td>7</td>\n      <td>1.71</td>\n      <td>1</td>\n      <td>0</td>\n      <td>0</td>\n      <td>0</td>\n      <td>2</td>\n      <td>120.0</td>\n      <td>0</td>\n      <td>0</td>\n    </tr>\n  </tbody>\n</table>\n</div>"
     },
     "execution_count": 6,
     "metadata": {},
     "output_type": "execute_result"
    }
   ],
   "source": [
    "# 离散特征编码\n",
    "from sklearn.preprocessing import LabelEncoder\n",
    "\n",
    "# 标签编码\n",
    "label_encoder = LabelEncoder()\n",
    "for column in df.columns:\n",
    "    if df[column].dtype == 'object':\n",
    "        df[column] = label_encoder.fit_transform(df[column])\n",
    "df.head()"
   ],
   "metadata": {
    "collapsed": false,
    "pycharm": {
     "name": "#%%\n"
    }
   }
  },
  {
   "cell_type": "code",
   "execution_count": 7,
   "outputs": [
    {
     "data": {
      "text/plain": "   A1        A2        A3  A4  A5  A6  A7        A8  A9  A10       A11  A12  \\\n0   1  0.271111  0.000000   1   0  12   7  0.043860   1    1  0.014925    0   \n1   0  0.713016  0.159286   1   0  10   3  0.106667   1    1  0.089552    0   \n2   0  0.170635  0.017857   1   0  10   3  0.052632   1    0  0.000000    0   \n3   1  0.223492  0.055000   1   0  12   7  0.131579   1    1  0.074627    1   \n4   1  0.101905  0.200893   1   0  12   7  0.060000   1    0  0.000000    0   \n\n   A13     A14      A15  A16  \n0    0  0.1010  0.00000    0  \n1    0  0.0215  0.00560    0  \n2    0  0.1400  0.00824    0  \n3    0  0.0500  0.00003    0  \n4    2  0.0600  0.00000    0  ",
      "text/html": "<div>\n<style scoped>\n    .dataframe tbody tr th:only-of-type {\n        vertical-align: middle;\n    }\n\n    .dataframe tbody tr th {\n        vertical-align: top;\n    }\n\n    .dataframe thead th {\n        text-align: right;\n    }\n</style>\n<table border=\"1\" class=\"dataframe\">\n  <thead>\n    <tr style=\"text-align: right;\">\n      <th></th>\n      <th>A1</th>\n      <th>A2</th>\n      <th>A3</th>\n      <th>A4</th>\n      <th>A5</th>\n      <th>A6</th>\n      <th>A7</th>\n      <th>A8</th>\n      <th>A9</th>\n      <th>A10</th>\n      <th>A11</th>\n      <th>A12</th>\n      <th>A13</th>\n      <th>A14</th>\n      <th>A15</th>\n      <th>A16</th>\n    </tr>\n  </thead>\n  <tbody>\n    <tr>\n      <th>0</th>\n      <td>1</td>\n      <td>0.271111</td>\n      <td>0.000000</td>\n      <td>1</td>\n      <td>0</td>\n      <td>12</td>\n      <td>7</td>\n      <td>0.043860</td>\n      <td>1</td>\n      <td>1</td>\n      <td>0.014925</td>\n      <td>0</td>\n      <td>0</td>\n      <td>0.1010</td>\n      <td>0.00000</td>\n      <td>0</td>\n    </tr>\n    <tr>\n      <th>1</th>\n      <td>0</td>\n      <td>0.713016</td>\n      <td>0.159286</td>\n      <td>1</td>\n      <td>0</td>\n      <td>10</td>\n      <td>3</td>\n      <td>0.106667</td>\n      <td>1</td>\n      <td>1</td>\n      <td>0.089552</td>\n      <td>0</td>\n      <td>0</td>\n      <td>0.0215</td>\n      <td>0.00560</td>\n      <td>0</td>\n    </tr>\n    <tr>\n      <th>2</th>\n      <td>0</td>\n      <td>0.170635</td>\n      <td>0.017857</td>\n      <td>1</td>\n      <td>0</td>\n      <td>10</td>\n      <td>3</td>\n      <td>0.052632</td>\n      <td>1</td>\n      <td>0</td>\n      <td>0.000000</td>\n      <td>0</td>\n      <td>0</td>\n      <td>0.1400</td>\n      <td>0.00824</td>\n      <td>0</td>\n    </tr>\n    <tr>\n      <th>3</th>\n      <td>1</td>\n      <td>0.223492</td>\n      <td>0.055000</td>\n      <td>1</td>\n      <td>0</td>\n      <td>12</td>\n      <td>7</td>\n      <td>0.131579</td>\n      <td>1</td>\n      <td>1</td>\n      <td>0.074627</td>\n      <td>1</td>\n      <td>0</td>\n      <td>0.0500</td>\n      <td>0.00003</td>\n      <td>0</td>\n    </tr>\n    <tr>\n      <th>4</th>\n      <td>1</td>\n      <td>0.101905</td>\n      <td>0.200893</td>\n      <td>1</td>\n      <td>0</td>\n      <td>12</td>\n      <td>7</td>\n      <td>0.060000</td>\n      <td>1</td>\n      <td>0</td>\n      <td>0.000000</td>\n      <td>0</td>\n      <td>2</td>\n      <td>0.0600</td>\n      <td>0.00000</td>\n      <td>0</td>\n    </tr>\n  </tbody>\n</table>\n</div>"
     },
     "execution_count": 7,
     "metadata": {},
     "output_type": "execute_result"
    }
   ],
   "source": [
    "# 连续特征归一化处理\n",
    "from sklearn.preprocessing import MinMaxScaler\n",
    "\n",
    "# 归一化处理\n",
    "continental_features = ['A2', 'A3', 'A8', 'A11', 'A14', 'A15']\n",
    "\n",
    "# 进行归一化处理\n",
    "scaler = MinMaxScaler()\n",
    "df[continental_features] = scaler.fit_transform(df[continental_features])\n",
    "df.head()"
   ],
   "metadata": {
    "collapsed": false,
    "pycharm": {
     "name": "#%%\n"
    }
   }
  },
  {
   "cell_type": "code",
   "execution_count": 8,
   "outputs": [
    {
     "name": "stdout",
     "output_type": "stream",
     "text": [
      "Index(['A1', 'A2', 'A3', 'A4', 'A5', 'A6', 'A7', 'A9', 'A10', 'A12', 'A13',\n",
      "       'A16'],\n",
      "      dtype='object')\n"
     ]
    }
   ],
   "source": [
    "# 特征选择\n",
    "from sklearn.feature_selection import VarianceThreshold\n",
    "\n",
    "# 使用方差选择法\n",
    "selector = VarianceThreshold(threshold=0.03)  # 设置方差阈值\n",
    "selected_features = selector.fit_transform(df)\n",
    "selected_columns = df.columns[selector.get_support(indices=True)]\n",
    "\n",
    "print(selected_columns)"
   ],
   "metadata": {
    "collapsed": false,
    "pycharm": {
     "name": "#%%\n"
    }
   }
  },
  {
   "cell_type": "code",
   "execution_count": 9,
   "outputs": [],
   "source": [
    "selected_df = df[selected_columns]"
   ],
   "metadata": {
    "collapsed": false,
    "pycharm": {
     "name": "#%%\n"
    }
   }
  },
  {
   "cell_type": "code",
   "execution_count": 10,
   "outputs": [
    {
     "data": {
      "text/plain": "<Figure size 1152x720 with 12 Axes>",
      "image/png": "[encoded data removed]"
     },
     "metadata": {
      "needs_background": "light"
     },
     "output_type": "display_data"
    },
    {
     "data": {
      "text/plain": "<Figure size 576x432 with 0 Axes>"
     },
     "metadata": {},
     "output_type": "display_data"
    },
    {
     "data": {
      "text/plain": "<Figure size 576x432 with 0 Axes>"
     },
     "metadata": {},
     "output_type": "display_data"
    },
    {
     "data": {
      "text/plain": "<Figure size 576x432 with 0 Axes>"
     },
     "metadata": {},
     "output_type": "display_data"
    },
    {
     "data": {
      "text/plain": "<Figure size 576x432 with 0 Axes>"
     },
     "metadata": {},
     "output_type": "display_data"
    },
    {
     "data": {
      "text/plain": "<Figure size 576x432 with 0 Axes>"
     },
     "metadata": {},
     "output_type": "display_data"
    },
    {
     "data": {
      "text/plain": "<Figure size 576x432 with 0 Axes>"
     },
     "metadata": {},
     "output_type": "display_data"
    },
    {
     "data": {
      "text/plain": "<Figure size 576x432 with 0 Axes>"
     },
     "metadata": {},
     "output_type": "display_data"
    },
    {
     "data": {
      "text/plain": "<Figure size 576x432 with 0 Axes>"
     },
     "metadata": {},
     "output_type": "display_data"
    },
    {
     "data": {
      "text/plain": "<Figure size 576x432 with 0 Axes>"
     },
     "metadata": {},
     "output_type": "display_data"
    },
    {
     "data": {
      "text/plain": "<Figure size 576x432 with 0 Axes>"
     },
     "metadata": {},
     "output_type": "display_data"
    },
    {
     "data": {
      "text/plain": "<Figure size 576x432 with 0 Axes>"
     },
     "metadata": {},
     "output_type": "display_data"
    },
    {
     "data": {
      "text/plain": "<Figure size 576x432 with 0 Axes>"
     },
     "metadata": {},
     "output_type": "display_data"
    }
   ],
   "source": [
    "import seaborn as sns\n",
    "# 创建一个3行4列的子图\n",
    "fig, axes = plt.subplots(3, 4, figsize=(16, 10))\n",
    "\n",
    "# 遍历每个特征进行可视化\n",
    "for i,feature in enumerate(selected_columns):\n",
    "    plt.figure(figsize=(8, 6))\n",
    "    # 计算当前特征在子图中的位置\n",
    "    row = i // 4\n",
    "    col = i % 4\n",
    "    # 如果是离散特征，绘制柱状图\n",
    "    if feature not in continental_features:\n",
    "        sns.countplot(x=feature, data=selected_df, ax=axes[row][col])\n",
    "        axes[row][col].set_xlabel(feature)\n",
    "        axes[row][col].set_ylabel('Count')\n",
    "        axes[row][col].set_title(f'Bar Plot of {feature}')\n",
    "\n",
    "    # 如果是连续特征，绘制直方图\n",
    "    else:\n",
    "        sns.histplot(x=feature, data=selected_df, kde=True, ax=axes[row][col])\n",
    "        axes[row][col].set_xlabel(feature)\n",
    "        axes[row][col].set_ylabel('Frequency')\n",
    "        axes[row][col].set_title(f'Histogram Plot of {feature}')\n",
    "\n",
    "# 调整子图之间的间距\n",
    "fig.subplots_adjust(left=0.1, bottom=0, right=0.9, top=0.7, wspace=0.4, hspace=0.4)\n",
    "\n",
    "# 显示图形\n",
    "plt.show()"
   ],
   "metadata": {
    "collapsed": false,
    "pycharm": {
     "name": "#%%\n"
    }
   }
  },
  {
   "cell_type": "code",
   "execution_count": 11,
   "outputs": [
    {
     "data": {
      "text/plain": "<Figure size 720x576 with 2 Axes>",
      "image/png": "[encoded data removed]"
     },
     "metadata": {
      "needs_background": "light"
     },
     "output_type": "display_data"
    }
   ],
   "source": [
    "import warnings\n",
    "warnings.filterwarnings(\"ignore\")\n",
    "\n",
    "# 计算特征之间的相关系数\n",
    "correlation_matrix = selected_df.corr()\n",
    "\n",
    "# 绘制相关性热力图\n",
    "plt.figure(figsize=(10, 8))\n",
    "sns.heatmap(correlation_matrix, annot=True, cmap='coolwarm')\n",
    "plt.title('特征相关性热力图')\n",
    "plt.show()"
   ],
   "metadata": {
    "collapsed": false,
    "pycharm": {
     "name": "#%%\n"
    }
   }
  },
  {
   "cell_type": "markdown",
   "source": [],
   "metadata": {
    "collapsed": false,
    "pycharm": {
     "name": "#%% md\n"
    }
   }
  },
  {
   "cell_type": "markdown",
   "source": [
    "选取三种合适的机器学习方法完成预测任务\n",
    "任意选择工具包\n",
    "利用交叉验证法"
   ],
   "metadata": {
    "collapsed": false,
    "pycharm": {
     "name": "#%% md\n"
    }
   }
  },
  {
   "cell_type": "code",
   "execution_count": 12,
   "outputs": [],
   "source": [
    "# 提取特征列\n",
    "X = selected_df.drop(\"A16\",axis=1)\n",
    "y = selected_df[\"A16\"]"
   ],
   "metadata": {
    "collapsed": false,
    "pycharm": {
     "name": "#%%\n"
    }
   }
  },
  {
   "cell_type": "code",
   "execution_count": 13,
   "outputs": [],
   "source": [
    "# 将数据集分为训练集和测试集\n",
    "from sklearn.model_selection import train_test_split\n",
    "\n",
    "X_train, X_test, y_train, y_test = train_test_split(X, y, test_size=0.2, random_state=666)\n",
    "\n",
    "train_data = pd.DataFrame(X_train,y_train)\n",
    "test_data = pd.DataFrame(X_test,y_test)\n",
    "train_data.to_csv(\"train.data\")\n",
    "test_data.to_csv(\"test.data\")"
   ],
   "metadata": {
    "collapsed": false,
    "pycharm": {
     "name": "#%%\n"
    }
   }
  },
  {
   "cell_type": "code",
   "execution_count": 14,
   "outputs": [
    {
     "name": "stdout",
     "output_type": "stream",
     "text": [
      "DecisionTree mean accuracy: 77.1967116852613%\n",
      "DecisionTree mean precision: 68.70515902563557%\n",
      "DecisionTree mean recall: 75.17911565053615%\n",
      "DecisionTree mean f1-score: 68.31416334481469%\n",
      "\n",
      "KNN mean accuracy: 75.82501467997652%\n",
      "KNN mean precision: 70.85452434665359%\n",
      "KNN mean recall: 74.22174911592003%\n",
      "KNN mean f1-score: 69.18389396305757%\n",
      "\n",
      "RandomForest mean accuracy: 83.93423370522608%\n",
      "RandomForest mean precision: 72.57898351648352%\n",
      "RandomForest mean recall: 77.35401825950778%\n",
      "RandomForest mean f1-score: 71.19376943280378%\n",
      "\n",
      "LogisticRegression mean accuracy: 85.61362301820319%\n",
      "LogisticRegression mean precision: 74.44882088572439%\n",
      "LogisticRegression mean recall: 74.24818318196927%\n",
      "LogisticRegression mean f1-score: 72.20942029405832%\n",
      "\n",
      "SVM mean accuracy: 83.93423370522608%\n",
      "SVM mean precision: 70.22887203661952%\n",
      "SVM mean recall: 74.24818318196927%\n",
      "SVM mean f1-score: 68.66484456903146%\n",
      "\n"
     ]
    }
   ],
   "source": [
    "from sklearn.model_selection import cross_validate\n",
    "from sklearn.model_selection import KFold\n",
    "from sklearn.svm import SVC\n",
    "from sklearn.linear_model import LogisticRegression\n",
    "from sklearn.tree import DecisionTreeClassifier\n",
    "from sklearn.neighbors import KNeighborsClassifier\n",
    "from sklearn.ensemble import RandomForestClassifier\n",
    "\n",
    "# 初始化分类器\n",
    "classifiers = {\n",
    "    'DecisionTree': DecisionTreeClassifier(),\n",
    "    'KNN': KNeighborsClassifier(),\n",
    "    'RandomForest': RandomForestClassifier(),\n",
    "    'LogisticRegression': LogisticRegression(),\n",
    "    'SVM': SVC(),\n",
    "}\n",
    "# 使用k折交叉验证法，k取5\n",
    "kfold = KFold(n_splits=5)\n",
    "\n",
    "# results记录结果\n",
    "results = {}\n",
    "# 对不同的算法分别进行处理\n",
    "for clf_name, clf in classifiers.items():\n",
    "    scores =  cross_validate(clf, X, y, cv=kfold,scoring=('accuracy', 'precision', 'recall', 'f1'))\n",
    "    results[clf_name] = scores\n",
    "\n",
    "for name, score in results.items():\n",
    "    print(f'{name} mean accuracy: {np.mean(score[\"test_accuracy\"]*100)}%')\n",
    "    print(f'{name} mean precision: {np.mean(score[\"test_precision\"]*100)}%')\n",
    "    print(f'{name} mean recall: {np.mean(score[\"test_recall\"]*100)}%')\n",
    "    print(f'{name} mean f1-score: {np.mean(score[\"test_f1\"])*100}%')\n",
    "    print()"
   ],
   "metadata": {
    "collapsed": false,
    "pycharm": {
     "name": "#%%\n"
    }
   }
  },
  {
   "cell_type": "markdown",
   "source": [
    "对实验结果进行比较评估\n",
    "对结果进行评估（自行选定结果评估的表现形式）\n",
    "优化实验结果（自行选择优化方法，选做"
   ],
   "metadata": {
    "collapsed": false,
    "pycharm": {
     "name": "#%% md\n"
    }
   }
  },
  {
   "cell_type": "code",
   "execution_count": 15,
   "outputs": [
    {
     "data": {
      "text/plain": "'D:\\\\hzh\\\\黄子浩大帅哥专用\\\\机器学习\\\\final exam\\\\分类器性能对比.html'"
     },
     "execution_count": 15,
     "metadata": {},
     "output_type": "execute_result"
    }
   ],
   "source": [
    "# 选用雷达图进行模型对比\n",
    "from pyecharts.charts import Radar\n",
    "from pyecharts import options as opts\n",
    "\n",
    "# 设置 Radar chart 的属性\n",
    "colors = [\"#c23531\", \"#2f4554\", \"#61a0a8\", \"#d48265\", \"#91c7ae\", \"#749f83\"]\n",
    "\n",
    "R = Radar()\n",
    "\n",
    "for i,(name, score) in enumerate(results.items()):\n",
    "    R.add(\n",
    "        name,\n",
    "        [\n",
    "            [np.mean(score[\"fit_time\"]),\n",
    "            np.mean(score[\"score_time\"]),\n",
    "            np.mean(score[\"test_accuracy\"]),\n",
    "            np.mean(score[\"test_precision\"]),\n",
    "            np.mean(score[\"test_recall\"]),\n",
    "            np.mean(score[\"test_f1\"])]\n",
    "        ],\n",
    "        areastyle_opts=opts.AreaStyleOpts(opacity=0.2),\n",
    "        linestyle_opts=opts.LineStyleOpts(width=2),\n",
    "        color=colors[i]\n",
    "    )\n",
    "R.set_global_opts(title_opts=opts.TitleOpts(title=\"分类器性能对比\"))\\\n",
    "    .set_series_opts(label_opts=opts.LabelOpts(is_show=False))\\\n",
    "    .add_schema(\n",
    "    shape=\"circle\",\n",
    "    schema=[\n",
    "        opts.RadarIndicatorItem(name='Fit_time'),\n",
    "        opts.RadarIndicatorItem(name='Score_time'),\n",
    "        opts.RadarIndicatorItem(name='Accuracy'),\n",
    "        opts.RadarIndicatorItem(name='Precision'),\n",
    "        opts.RadarIndicatorItem(name='Recall'),\n",
    "        opts.RadarIndicatorItem(name='F1-Score')\n",
    "    ]\n",
    ")\n",
    "R.render(\"分类器性能对比.html\")"
   ],
   "metadata": {
    "collapsed": false,
    "pycharm": {
     "name": "#%%\n"
    }
   }
  },
  {
   "cell_type": "code",
   "execution_count": 16,
   "outputs": [
    {
     "name": "stdout",
     "output_type": "stream",
     "text": [
      "Best parameters:  {'max_depth': 10, 'min_samples_leaf': 1, 'min_samples_split': 2, 'n_estimators': 100}\n"
     ]
    }
   ],
   "source": [
    "# 对accuracy表现较好的随机森林模型调参\n",
    "param_grid = {\n",
    "    'n_estimators': [50, 100, 200],\n",
    "    'max_depth': [5, 10, 15],\n",
    "    'min_samples_split': [2, 5, 10],\n",
    "    'min_samples_leaf': [1, 2, 4]\n",
    "}\n",
    "\n",
    "from sklearn.model_selection import GridSearchCV\n",
    "\n",
    "rf = RandomForestClassifier(random_state=666)\n",
    "grid_search = GridSearchCV(rf, param_grid=param_grid, cv=kfold, scoring=('accuracy', 'precision', 'recall', 'f1'), refit=\"accuracy\")\n",
    "grid_search.fit(X_train, y_train)\n",
    "print(\"Best parameters: \", grid_search.best_params_)"
   ],
   "metadata": {
    "collapsed": false,
    "pycharm": {
     "name": "#%%\n"
    }
   }
  },
  {
   "cell_type": "code",
   "execution_count": 17,
   "outputs": [
    {
     "name": "stdout",
     "output_type": "stream",
     "text": [
      "Accuracy: 83.93305930710511%\n",
      "Precision: 74.20037094821352%\n",
      "Recall:77.93458257351861% \n",
      "F1 Score:72.221246713927% \n"
     ]
    }
   ],
   "source": [
    "# 重新训练模型\n",
    "best_model = grid_search.best_estimator_\n",
    "\n",
    "newRF_results =  cross_validate(best_model,X,y,cv= kfold,scoring=('accuracy', 'precision', 'recall', 'f1'))\n",
    "\n",
    "print(f\"Accuracy: {newRF_results['test_accuracy'].mean()*100}%\",)\n",
    "print(f\"Precision: { newRF_results['test_precision'].mean()*100}%\")\n",
    "print(f\"Recall:{newRF_results['test_recall'].mean()*100}% \" )\n",
    "print(f\"F1 Score:{newRF_results['test_f1'].mean()*100}% \" )"
   ],
   "metadata": {
    "collapsed": false,
    "pycharm": {
     "name": "#%%\n"
    }
   }
  },
  {
   "cell_type": "code",
   "execution_count": 18,
   "outputs": [
    {
     "name": "stdout",
     "output_type": "stream",
     "text": [
      "Best parameters found:  {'C': 0.1, 'gamma': 0.1, 'kernel': 'linear'}\n"
     ]
    }
   ],
   "source": [
    "# 定义参数网格\n",
    "param_grid = {\n",
    "    'C': [0.1, 1, 10],\n",
    "    'kernel': ['linear', 'rbf'],\n",
    "    'gamma': [0.1, 0.01, 0.001]\n",
    "}\n",
    "\n",
    "svm = SVC(random_state=666)\n",
    "grid_search = GridSearchCV(svm, param_grid=param_grid, cv=kfold, scoring=('accuracy', 'precision', 'recall', 'f1'), refit=\"accuracy\")\n",
    "\n",
    "# 在训练集上进行参数搜索\n",
    "grid_search.fit(X_train, y_train)\n",
    "\n",
    "# 输出最佳参数\n",
    "print(\"Best parameters found: \", grid_search.best_params_)"
   ],
   "metadata": {
    "collapsed": false,
    "pycharm": {
     "name": "#%%\n"
    }
   }
  },
  {
   "cell_type": "code",
   "execution_count": 19,
   "outputs": [
    {
     "name": "stdout",
     "output_type": "stream",
     "text": [
      "Accuracy: 83.93305930710511%\n",
      "Precision: 74.20037094821352%\n",
      "Recall:77.93458257351861% \n",
      "F1 Score:72.221246713927% \n"
     ]
    }
   ],
   "source": [
    "# 重新训练模型\n",
    "best_SVMmodel = grid_search.best_estimator_\n",
    "\n",
    "newSVM_results =  cross_validate(best_model,X,y,cv= kfold,scoring=('accuracy', 'precision', 'recall', 'f1'))\n",
    "\n",
    "print(f\"Accuracy: {newSVM_results['test_accuracy'].mean()*100}%\",)\n",
    "print(f\"Precision: { newSVM_results['test_precision'].mean()*100}%\")\n",
    "print(f\"Recall:{newSVM_results['test_recall'].mean()*100}% \" )\n",
    "print(f\"F1 Score:{newSVM_results['test_f1'].mean()*100}% \" )"
   ],
   "metadata": {
    "collapsed": false,
    "pycharm": {
     "name": "#%%\n"
    }
   }
  }
 ],
 "metadata": {
  "kernelspec": {
   "display_name": "Python 3",
   "language": "python",
   "name": "python3"
  },
  "language_info": {
   "codemirror_mode": {
    "name": "ipython",
    "version": 2
   },
   "file_extension": ".py",
   "mimetype": "text/x-python",
   "name": "python",
   "nbconvert_exporter": "python",
   "pygments_lexer": "ipython2",
   "version": "2.7.6"
  }
 },
 "nbformat": 4,
 "nbformat_minor": 0
}